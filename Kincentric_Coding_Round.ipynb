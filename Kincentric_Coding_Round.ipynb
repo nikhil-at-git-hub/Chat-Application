{
  "nbformat": 4,
  "nbformat_minor": 0,
  "metadata": {
    "colab": {
      "provenance": [],
      "authorship_tag": "ABX9TyP9SK1eSJV1fiRRXBS0IUIN",
      "include_colab_link": true
    },
    "kernelspec": {
      "name": "python3",
      "display_name": "Python 3"
    },
    "language_info": {
      "name": "python"
    }
  },
  "cells": [
    {
      "cell_type": "markdown",
      "metadata": {
        "id": "view-in-github",
        "colab_type": "text"
      },
      "source": [
        "<a href=\"https://colab.research.google.com/github/nikhil-at-git-hub/Chat-Application/blob/main/Kincentric_Coding_Round.ipynb\" target=\"_parent\"><img src=\"https://colab.research.google.com/assets/colab-badge.svg\" alt=\"Open In Colab\"/></a>"
      ]
    },
    {
      "cell_type": "code",
      "execution_count": null,
      "metadata": {
        "id": "jVWObwjTntGr"
      },
      "outputs": [],
      "source": [
        "import pandas as pd\n",
        "import numpy as np\n"
      ]
    },
    {
      "cell_type": "code",
      "source": [
        "data= pd.read_csv(\"Interview_CSV.csv\")"
      ],
      "metadata": {
        "id": "pM7vOiAOo1EH"
      },
      "execution_count": 39,
      "outputs": []
    },
    {
      "cell_type": "code",
      "source": [
        "data.head()"
      ],
      "metadata": {
        "colab": {
          "base_uri": "https://localhost:8080/",
          "height": 206
        },
        "id": "XXBmKf9Xpb2g",
        "outputId": "cdf96ddb-2928-4787-f1ef-9f86eb217494"
      },
      "execution_count": 40,
      "outputs": [
        {
          "output_type": "execute_result",
          "data": {
            "text/plain": [
              "    Organization   Candidate  a_x1  a_x2  a_x3  b_x1  b_x2  b_x3  b_x4\n",
              "0  organization1  candidate1    29    33    94    62     9    58    51\n",
              "1  organization1  candidate2    41    51    52    46    17    35    29\n",
              "2  organization1  candidate3    23    72    58    75    68    95    59\n",
              "3  organization1  candidate4    29     6    83    10     7     8    27\n",
              "4  organization1  candidate5    35    98    97    36    45    48    16"
            ],
            "text/html": [
              "\n",
              "\n",
              "  <div id=\"df-5b5a2d3b-ed2d-406e-9d43-d01899159994\">\n",
              "    <div class=\"colab-df-container\">\n",
              "      <div>\n",
              "<style scoped>\n",
              "    .dataframe tbody tr th:only-of-type {\n",
              "        vertical-align: middle;\n",
              "    }\n",
              "\n",
              "    .dataframe tbody tr th {\n",
              "        vertical-align: top;\n",
              "    }\n",
              "\n",
              "    .dataframe thead th {\n",
              "        text-align: right;\n",
              "    }\n",
              "</style>\n",
              "<table border=\"1\" class=\"dataframe\">\n",
              "  <thead>\n",
              "    <tr style=\"text-align: right;\">\n",
              "      <th></th>\n",
              "      <th>Organization</th>\n",
              "      <th>Candidate</th>\n",
              "      <th>a_x1</th>\n",
              "      <th>a_x2</th>\n",
              "      <th>a_x3</th>\n",
              "      <th>b_x1</th>\n",
              "      <th>b_x2</th>\n",
              "      <th>b_x3</th>\n",
              "      <th>b_x4</th>\n",
              "    </tr>\n",
              "  </thead>\n",
              "  <tbody>\n",
              "    <tr>\n",
              "      <th>0</th>\n",
              "      <td>organization1</td>\n",
              "      <td>candidate1</td>\n",
              "      <td>29</td>\n",
              "      <td>33</td>\n",
              "      <td>94</td>\n",
              "      <td>62</td>\n",
              "      <td>9</td>\n",
              "      <td>58</td>\n",
              "      <td>51</td>\n",
              "    </tr>\n",
              "    <tr>\n",
              "      <th>1</th>\n",
              "      <td>organization1</td>\n",
              "      <td>candidate2</td>\n",
              "      <td>41</td>\n",
              "      <td>51</td>\n",
              "      <td>52</td>\n",
              "      <td>46</td>\n",
              "      <td>17</td>\n",
              "      <td>35</td>\n",
              "      <td>29</td>\n",
              "    </tr>\n",
              "    <tr>\n",
              "      <th>2</th>\n",
              "      <td>organization1</td>\n",
              "      <td>candidate3</td>\n",
              "      <td>23</td>\n",
              "      <td>72</td>\n",
              "      <td>58</td>\n",
              "      <td>75</td>\n",
              "      <td>68</td>\n",
              "      <td>95</td>\n",
              "      <td>59</td>\n",
              "    </tr>\n",
              "    <tr>\n",
              "      <th>3</th>\n",
              "      <td>organization1</td>\n",
              "      <td>candidate4</td>\n",
              "      <td>29</td>\n",
              "      <td>6</td>\n",
              "      <td>83</td>\n",
              "      <td>10</td>\n",
              "      <td>7</td>\n",
              "      <td>8</td>\n",
              "      <td>27</td>\n",
              "    </tr>\n",
              "    <tr>\n",
              "      <th>4</th>\n",
              "      <td>organization1</td>\n",
              "      <td>candidate5</td>\n",
              "      <td>35</td>\n",
              "      <td>98</td>\n",
              "      <td>97</td>\n",
              "      <td>36</td>\n",
              "      <td>45</td>\n",
              "      <td>48</td>\n",
              "      <td>16</td>\n",
              "    </tr>\n",
              "  </tbody>\n",
              "</table>\n",
              "</div>\n",
              "      <button class=\"colab-df-convert\" onclick=\"convertToInteractive('df-5b5a2d3b-ed2d-406e-9d43-d01899159994')\"\n",
              "              title=\"Convert this dataframe to an interactive table.\"\n",
              "              style=\"display:none;\">\n",
              "\n",
              "  <svg xmlns=\"http://www.w3.org/2000/svg\" height=\"24px\"viewBox=\"0 0 24 24\"\n",
              "       width=\"24px\">\n",
              "    <path d=\"M0 0h24v24H0V0z\" fill=\"none\"/>\n",
              "    <path d=\"M18.56 5.44l.94 2.06.94-2.06 2.06-.94-2.06-.94-.94-2.06-.94 2.06-2.06.94zm-11 1L8.5 8.5l.94-2.06 2.06-.94-2.06-.94L8.5 2.5l-.94 2.06-2.06.94zm10 10l.94 2.06.94-2.06 2.06-.94-2.06-.94-.94-2.06-.94 2.06-2.06.94z\"/><path d=\"M17.41 7.96l-1.37-1.37c-.4-.4-.92-.59-1.43-.59-.52 0-1.04.2-1.43.59L10.3 9.45l-7.72 7.72c-.78.78-.78 2.05 0 2.83L4 21.41c.39.39.9.59 1.41.59.51 0 1.02-.2 1.41-.59l7.78-7.78 2.81-2.81c.8-.78.8-2.07 0-2.86zM5.41 20L4 18.59l7.72-7.72 1.47 1.35L5.41 20z\"/>\n",
              "  </svg>\n",
              "      </button>\n",
              "\n",
              "\n",
              "\n",
              "    <div id=\"df-88657dbb-6057-4a0a-8577-40995b44df2c\">\n",
              "      <button class=\"colab-df-quickchart\" onclick=\"quickchart('df-88657dbb-6057-4a0a-8577-40995b44df2c')\"\n",
              "              title=\"Suggest charts.\"\n",
              "              style=\"display:none;\">\n",
              "\n",
              "<svg xmlns=\"http://www.w3.org/2000/svg\" height=\"24px\"viewBox=\"0 0 24 24\"\n",
              "     width=\"24px\">\n",
              "    <g>\n",
              "        <path d=\"M19 3H5c-1.1 0-2 .9-2 2v14c0 1.1.9 2 2 2h14c1.1 0 2-.9 2-2V5c0-1.1-.9-2-2-2zM9 17H7v-7h2v7zm4 0h-2V7h2v10zm4 0h-2v-4h2v4z\"/>\n",
              "    </g>\n",
              "</svg>\n",
              "      </button>\n",
              "    </div>\n",
              "\n",
              "<style>\n",
              "  .colab-df-quickchart {\n",
              "    background-color: #E8F0FE;\n",
              "    border: none;\n",
              "    border-radius: 50%;\n",
              "    cursor: pointer;\n",
              "    display: none;\n",
              "    fill: #1967D2;\n",
              "    height: 32px;\n",
              "    padding: 0 0 0 0;\n",
              "    width: 32px;\n",
              "  }\n",
              "\n",
              "  .colab-df-quickchart:hover {\n",
              "    background-color: #E2EBFA;\n",
              "    box-shadow: 0px 1px 2px rgba(60, 64, 67, 0.3), 0px 1px 3px 1px rgba(60, 64, 67, 0.15);\n",
              "    fill: #174EA6;\n",
              "  }\n",
              "\n",
              "  [theme=dark] .colab-df-quickchart {\n",
              "    background-color: #3B4455;\n",
              "    fill: #D2E3FC;\n",
              "  }\n",
              "\n",
              "  [theme=dark] .colab-df-quickchart:hover {\n",
              "    background-color: #434B5C;\n",
              "    box-shadow: 0px 1px 3px 1px rgba(0, 0, 0, 0.15);\n",
              "    filter: drop-shadow(0px 1px 2px rgba(0, 0, 0, 0.3));\n",
              "    fill: #FFFFFF;\n",
              "  }\n",
              "</style>\n",
              "\n",
              "    <script>\n",
              "      async function quickchart(key) {\n",
              "        const containerElement = document.querySelector('#' + key);\n",
              "        const charts = await google.colab.kernel.invokeFunction(\n",
              "            'suggestCharts', [key], {});\n",
              "      }\n",
              "    </script>\n",
              "\n",
              "      <script>\n",
              "\n",
              "function displayQuickchartButton(domScope) {\n",
              "  let quickchartButtonEl =\n",
              "    domScope.querySelector('#df-88657dbb-6057-4a0a-8577-40995b44df2c button.colab-df-quickchart');\n",
              "  quickchartButtonEl.style.display =\n",
              "    google.colab.kernel.accessAllowed ? 'block' : 'none';\n",
              "}\n",
              "\n",
              "        displayQuickchartButton(document);\n",
              "      </script>\n",
              "      <style>\n",
              "    .colab-df-container {\n",
              "      display:flex;\n",
              "      flex-wrap:wrap;\n",
              "      gap: 12px;\n",
              "    }\n",
              "\n",
              "    .colab-df-convert {\n",
              "      background-color: #E8F0FE;\n",
              "      border: none;\n",
              "      border-radius: 50%;\n",
              "      cursor: pointer;\n",
              "      display: none;\n",
              "      fill: #1967D2;\n",
              "      height: 32px;\n",
              "      padding: 0 0 0 0;\n",
              "      width: 32px;\n",
              "    }\n",
              "\n",
              "    .colab-df-convert:hover {\n",
              "      background-color: #E2EBFA;\n",
              "      box-shadow: 0px 1px 2px rgba(60, 64, 67, 0.3), 0px 1px 3px 1px rgba(60, 64, 67, 0.15);\n",
              "      fill: #174EA6;\n",
              "    }\n",
              "\n",
              "    [theme=dark] .colab-df-convert {\n",
              "      background-color: #3B4455;\n",
              "      fill: #D2E3FC;\n",
              "    }\n",
              "\n",
              "    [theme=dark] .colab-df-convert:hover {\n",
              "      background-color: #434B5C;\n",
              "      box-shadow: 0px 1px 3px 1px rgba(0, 0, 0, 0.15);\n",
              "      filter: drop-shadow(0px 1px 2px rgba(0, 0, 0, 0.3));\n",
              "      fill: #FFFFFF;\n",
              "    }\n",
              "  </style>\n",
              "\n",
              "      <script>\n",
              "        const buttonEl =\n",
              "          document.querySelector('#df-5b5a2d3b-ed2d-406e-9d43-d01899159994 button.colab-df-convert');\n",
              "        buttonEl.style.display =\n",
              "          google.colab.kernel.accessAllowed ? 'block' : 'none';\n",
              "\n",
              "        async function convertToInteractive(key) {\n",
              "          const element = document.querySelector('#df-5b5a2d3b-ed2d-406e-9d43-d01899159994');\n",
              "          const dataTable =\n",
              "            await google.colab.kernel.invokeFunction('convertToInteractive',\n",
              "                                                     [key], {});\n",
              "          if (!dataTable) return;\n",
              "\n",
              "          const docLinkHtml = 'Like what you see? Visit the ' +\n",
              "            '<a target=\"_blank\" href=https://colab.research.google.com/notebooks/data_table.ipynb>data table notebook</a>'\n",
              "            + ' to learn more about interactive tables.';\n",
              "          element.innerHTML = '';\n",
              "          dataTable['output_type'] = 'display_data';\n",
              "          await google.colab.output.renderOutput(dataTable, element);\n",
              "          const docLink = document.createElement('div');\n",
              "          docLink.innerHTML = docLinkHtml;\n",
              "          element.appendChild(docLink);\n",
              "        }\n",
              "      </script>\n",
              "    </div>\n",
              "  </div>\n"
            ]
          },
          "metadata": {},
          "execution_count": 40
        }
      ]
    },
    {
      "cell_type": "code",
      "source": [
        "# Calculate the averages for a_x1, a_x2, a_x3\n",
        "\n",
        "a_cols = ['a_x1', 'a_x2', 'a_x3']\n",
        "data['a'] = data[a_cols].mean(axis=1)"
      ],
      "metadata": {
        "id": "77N-IRm5A9vO"
      },
      "execution_count": 41,
      "outputs": []
    },
    {
      "cell_type": "code",
      "source": [
        "# Calculate the averages for b_x1, b_x2, b_x3, b_x4\n",
        "\n",
        "b_cols = ['b_x1', 'b_x2', 'b_x3', 'b_x4']\n",
        "data['b'] = data[b_cols].mean(axis=1)"
      ],
      "metadata": {
        "id": "ri055tHXBbOy"
      },
      "execution_count": 42,
      "outputs": []
    },
    {
      "cell_type": "code",
      "source": [
        "print (data)"
      ],
      "metadata": {
        "colab": {
          "base_uri": "https://localhost:8080/",
          "height": 0
        },
        "id": "-089OF3uBeqt",
        "outputId": "446636aa-68e5-46c2-89e7-b2989c217115"
      },
      "execution_count": 48,
      "outputs": [
        {
          "output_type": "stream",
          "name": "stdout",
          "text": [
            "     Organization    Candidate  a_x1  a_x2  a_x3  b_x1  b_x2  b_x3  b_x4  \\\n",
            "0   organization1   candidate1    29    33    94    62     9    58    51   \n",
            "1   organization1   candidate2    41    51    52    46    17    35    29   \n",
            "2   organization1   candidate3    23    72    58    75    68    95    59   \n",
            "3   organization1   candidate4    29     6    83    10     7     8    27   \n",
            "4   organization1   candidate5    35    98    97    36    45    48    16   \n",
            "5   organization1   candidate6    71    49    58    81    64    26    48   \n",
            "6   organization1   candidate7    63    24    48    73    11    39    55   \n",
            "7   organization1   candidate8    20    12    57    42    71     7    42   \n",
            "8   organization1   candidate9     1    60    46    90    59    33    37   \n",
            "9   organization1  candidate10    46    97    35    24    94    50     4   \n",
            "10  organization2  candidate11    11    84     2    99    99    81    32   \n",
            "11  organization2  candidate12    28    80    43    18    25    11    24   \n",
            "12  organization2  candidate13    42    44    68    24    66    67    59   \n",
            "13  organization2  candidate14    59    51    57    36    67    46    40   \n",
            "14  organization2  candidate15    34     8    36    70    54    67    76   \n",
            "15  organization2  candidate16    15    58    39   100     6     1    96   \n",
            "16  organization2  candidate17    70    71    26    66    35    66    41   \n",
            "17  organization2  candidate18    97    64    56    88   100    31    61   \n",
            "18  organization2  candidate19    22    33    23    47    67    18    10   \n",
            "19  organization2  candidate20     5    67    77    61    67    77    40   \n",
            "20  organization1  candidate21    55    87     1    37    69     5    51   \n",
            "21  organization1  candidate22    14    82    53    28    87    75    98   \n",
            "22  organization1  candidate23     2    38    68    47    39    91     3   \n",
            "23  organization1  candidate24     9    66    86    41    20    61     3   \n",
            "24  organization1  candidate25    51    56    53    83    21    60     2   \n",
            "25  organization1  candidate26    27    74   100    80    13    14    97   \n",
            "26  organization1  candidate27    28    32    83    45    29    91    12   \n",
            "27  organization1  candidate28    44    28    54    39    25    52   100   \n",
            "28  organization1  candidate29    37    35    80    79    19   100    23   \n",
            "29  organization1  candidate30    44    26    32   100    71    42     8   \n",
            "30  organization2  candidate31    89    58    41    26    27     8    42   \n",
            "31  organization2  candidate32    51    15    20    43     4    20    46   \n",
            "32  organization2  candidate33    25    16    52    44    66    51    24   \n",
            "33  organization2  candidate34    73     8    55    19    19     3    47   \n",
            "34  organization2  candidate35    62    63    91    57     2    36    11   \n",
            "35  organization2  candidate36    35     2    67    20    84     6    56   \n",
            "36  organization2  candidate37   100    99    65    87    95    14    47   \n",
            "37  organization2  candidate38    46    11    47    83    95    98    21   \n",
            "38  organization2  candidate39    49    65    85    22    76    33    68   \n",
            "39  organization2  candidate40    50    74    11    23     6    53    16   \n",
            "\n",
            "            a      b  \n",
            "0   52.000000  45.00  \n",
            "1   48.000000  31.75  \n",
            "2   51.000000  74.25  \n",
            "3   39.333333  13.00  \n",
            "4   76.666667  36.25  \n",
            "5   59.333333  54.75  \n",
            "6   45.000000  44.50  \n",
            "7   29.666667  40.50  \n",
            "8   35.666667  54.75  \n",
            "9   59.333333  43.00  \n",
            "10  32.333333  77.75  \n",
            "11  50.333333  19.50  \n",
            "12  51.333333  54.00  \n",
            "13  55.666667  47.25  \n",
            "14  26.000000  66.75  \n",
            "15  37.333333  50.75  \n",
            "16  55.666667  52.00  \n",
            "17  72.333333  70.00  \n",
            "18  26.000000  35.50  \n",
            "19  49.666667  61.25  \n",
            "20  47.666667  40.50  \n",
            "21  49.666667  72.00  \n",
            "22  36.000000  45.00  \n",
            "23  53.666667  31.25  \n",
            "24  53.333333  41.50  \n",
            "25  67.000000  51.00  \n",
            "26  47.666667  44.25  \n",
            "27  42.000000  54.00  \n",
            "28  50.666667  55.25  \n",
            "29  34.000000  55.25  \n",
            "30  62.666667  25.75  \n",
            "31  28.666667  28.25  \n",
            "32  31.000000  46.25  \n",
            "33  45.333333  22.00  \n",
            "34  72.000000  26.50  \n",
            "35  34.666667  41.50  \n",
            "36  88.000000  60.75  \n",
            "37  34.666667  74.25  \n",
            "38  66.333333  49.75  \n",
            "39  45.000000  24.50  \n"
          ]
        }
      ]
    },
    {
      "cell_type": "code",
      "source": [
        "import seaborn"
      ],
      "metadata": {
        "id": "WwEgKey6EXFx"
      },
      "execution_count": 49,
      "outputs": []
    },
    {
      "cell_type": "code",
      "source": [
        "sns.boxplot(x='Organization', y='a', data=data)\n",
        "plt.title('Boxplot of Averages (a) Grouped by Organization')"
      ],
      "metadata": {
        "colab": {
          "base_uri": "https://localhost:8080/",
          "height": 489
        },
        "id": "ftUtCPbNEbHx",
        "outputId": "b44d1981-f6f6-48b7-9a5e-0d80a3b1c9e3"
      },
      "execution_count": 53,
      "outputs": [
        {
          "output_type": "execute_result",
          "data": {
            "text/plain": [
              "Text(0.5, 1.0, 'Boxplot of Averages (a) Grouped by Organization')"
            ]
          },
          "metadata": {},
          "execution_count": 53
        },
        {
          "output_type": "display_data",
          "data": {
            "text/plain": [
              "<Figure size 640x480 with 1 Axes>"
            ],
            "image/png": "[encoded data removed]"
          },
          "metadata": {}
        }
      ]
    },
    {
      "cell_type": "code",
      "source": [
        "sns.boxplot(x='Organization', y='b', data=data)\n",
        "plt.title('Boxplot of Averages (b) Grouped by Organization')"
      ],
      "metadata": {
        "colab": {
          "base_uri": "https://localhost:8080/",
          "height": 489
        },
        "id": "392rjHq6E3dS",
        "outputId": "35272118-dce0-4c62-a4fc-aa2fdfd230f1"
      },
      "execution_count": 52,
      "outputs": [
        {
          "output_type": "execute_result",
          "data": {
            "text/plain": [
              "Text(0.5, 1.0, 'Boxplot of Averages (b) Grouped by Organization')"
            ]
          },
          "metadata": {},
          "execution_count": 52
        },
        {
          "output_type": "display_data",
          "data": {
            "text/plain": [
              "<Figure size 640x480 with 1 Axes>"
            ],
            "image/png": "[encoded data removed]"
          },
          "metadata": {}
        }
      ]
    }
  ]
}